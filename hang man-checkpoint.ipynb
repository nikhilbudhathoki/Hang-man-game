{
 "cells": [
  {
   "cell_type": "code",
   "execution_count": null,
   "id": "844b77ad-cda7-4321-95bf-17a15b4cdd40",
   "metadata": {},
   "outputs": [
    {
     "name": "stdout",
     "output_type": "stream",
     "text": [
      "potato\n"
     ]
    }
   ],
   "source": [
    "#new hangman game\n",
    "import random\n",
    "\n",
    "words=['ladyfinger','tomato','potato']\n",
    "choose=random.choice(words)\n",
    "\n",
    "print(choose)\n",
    "display=[]\n"
   ]
  },
  {
   "cell_type": "code",
   "execution_count": null,
   "id": "ded19b71-c65f-4b13-9de3-6ea44fd4fb42",
   "metadata": {},
   "outputs": [],
   "source": [
    "stages = [\n",
    "        \"\"\"\n",
    "        ------\n",
    "        |    |\n",
    "             |\n",
    "             |\n",
    "             |\n",
    "             |\n",
    "        ------------\n",
    "        \"\"\",\n",
    "        \"\"\"\n",
    "        ------\n",
    "        |    |\n",
    "        |    O\n",
    "             |\n",
    "             |\n",
    "             |\n",
    "        ------------\n",
    "        \"\"\",\n",
    "        \"\"\"\n",
    "        ------\n",
    "        |    |\n",
    "        |    O\n",
    "        |   /|\\\\\n",
    "             |\n",
    "             |\n",
    "        ------------\n",
    "        \"\"\",\n",
    "        \"\"\"\n",
    "        ------\n",
    "        |    |\n",
    "        |    O\n",
    "        |   /|\\\\\n",
    "        |   / \\\\\n",
    "             |\n",
    "        ------------\n",
    "        \"\"\"\n",
    "    ]\n",
    "stages.reverse()"
   ]
  },
  {
   "cell_type": "code",
   "execution_count": null,
   "id": "08a017be-45ed-43e5-8f54-96f13ce7a03c",
   "metadata": {},
   "outputs": [
    {
     "name": "stdout",
     "output_type": "stream",
     "text": [
      "['_', '_', '_', '_', '_', '_']\n"
     ]
    }
   ],
   "source": [
    "for position in range(len(choose)):\n",
    "    display+='_'\n",
    "print(display)"
   ]
  },
  {
   "cell_type": "code",
   "execution_count": null,
   "id": "b5faa33c-afe0-424d-958a-06f0f3e99ee0",
   "metadata": {},
   "outputs": [
    {
     "name": "stdout",
     "output_type": "stream",
     "text": [
      "Enter a letter o\n"
     ]
    },
    {
     "name": "stdout",
     "output_type": "stream",
     "text": [
      "['p', 'o', '_', '_', '_', 'o']\n",
      "\n",
      "        ------\n",
      "        |    |\n",
      "             |\n",
      "             |\n",
      "             |\n",
      "             |\n",
      "        ------------\n",
      "        \n"
     ]
    },
    {
     "name": "stdout",
     "output_type": "stream",
     "text": [
      "Enter a letter o\n"
     ]
    },
    {
     "name": "stdout",
     "output_type": "stream",
     "text": [
      "['p', 'o', '_', '_', '_', 'o']\n",
      "\n",
      "        ------\n",
      "        |    |\n",
      "             |\n",
      "             |\n",
      "             |\n",
      "             |\n",
      "        ------------\n",
      "        \n"
     ]
    },
    {
     "name": "stdout",
     "output_type": "stream",
     "text": [
      "Enter a letter a\n"
     ]
    },
    {
     "name": "stdout",
     "output_type": "stream",
     "text": [
      "['p', 'o', '_', 'a', '_', 'o']\n",
      "\n",
      "        ------\n",
      "        |    |\n",
      "             |\n",
      "             |\n",
      "             |\n",
      "             |\n",
      "        ------------\n",
      "        \n"
     ]
    },
    {
     "name": "stdout",
     "output_type": "stream",
     "text": [
      "Enter a letter d\n"
     ]
    },
    {
     "name": "stdout",
     "output_type": "stream",
     "text": [
      "['p', 'o', '_', 'a', '_', 'o']\n",
      "\n",
      "        ------\n",
      "        |    |\n",
      "        |    O\n",
      "             |\n",
      "             |\n",
      "             |\n",
      "        ------------\n",
      "        \n"
     ]
    },
    {
     "name": "stdout",
     "output_type": "stream",
     "text": [
      "Enter a letter g\n"
     ]
    },
    {
     "name": "stdout",
     "output_type": "stream",
     "text": [
      "['p', 'o', '_', 'a', '_', 'o']\n",
      "\n",
      "        ------\n",
      "        |    |\n",
      "        |    O\n",
      "        |   /|\\\n",
      "             |\n",
      "             |\n",
      "        ------------\n",
      "        \n"
     ]
    }
   ],
   "source": [
    "game_over=False\n",
    "lives=3\n",
    "while not game_over:\n",
    " guess=input(\"Enter a letter\").lower()\n",
    " for position in range(len(choose)):\n",
    "  if guess==choose[position]:\n",
    "   display[position]=guess\n",
    " print(display)\n",
    " if guess not in choose:\n",
    "  lives-=1\n",
    "  if lives==0:\n",
    "    game_over=True\n",
    "    print(\"You loose\")\n",
    " if '_' not in display:\n",
    "  lives-=1\n",
    "  game_over=True\n",
    "  print(\"You win\")\n",
    "\n",
    " print(stages[lives])\n",
    "            "
   ]
  },
  {
   "cell_type": "code",
   "execution_count": null,
   "id": "f0f31bcd-fbcf-48cb-acb1-555082f1e226",
   "metadata": {},
   "outputs": [],
   "source": []
  },
  {
   "cell_type": "code",
   "execution_count": null,
   "id": "15e8ba74-0d10-40ac-aec7-68cf9e56a7e2",
   "metadata": {},
   "outputs": [],
   "source": []
  }
 ],
 "metadata": {
  "kernelspec": {
   "display_name": "Python 3 (ipykernel)",
   "language": "python",
   "name": "python3"
  },
  "language_info": {
   "codemirror_mode": {
    "name": "ipython",
    "version": 3
   },
   "file_extension": ".py",
   "mimetype": "text/x-python",
   "name": "python",
   "nbconvert_exporter": "python",
   "pygments_lexer": "ipython3",
   "version": "3.11.7"
  }
 },
 "nbformat": 4,
 "nbformat_minor": 5
}
